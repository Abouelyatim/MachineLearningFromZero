{
 "cells": [
  {
   "cell_type": "code",
   "execution_count": 16,
   "metadata": {},
   "outputs": [],
   "source": [
    "import numpy as np\n",
    "import pandas as pd \n",
    "import matplotlib.pyplot as plt \n",
    "%matplotlib inline\n",
    "\n",
    "LEARNING_RATE = 0.01 \n",
    "NB_ITER = 500\n",
    "\n",
    "def gradient_descent(X, Y, theta, nb_iter=NB_ITER, learning_rate=LEARNING_RATE, affich = True):\n",
    "    couts = []\n",
    "    theta1 = theta.copy()\n",
    "    \n",
    "    if (affich):\n",
    "        afficher_droite(X, Y, theta1)\n",
    "    \n",
    "    # Définir l'algorithme de la descente de gradient : \n",
    "    for i in range(nb_iter):\n",
    "        couts.append(J(X, Y, theta1))\n",
    "        grad = gradient(X, Y, theta1)\n",
    "        theta1 -=  learning_rate * grad\n",
    "        \n",
    "        if affich and i == nb_iter/2:\n",
    "            afficher_droite(X, Y, theta1)\n",
    "        \n",
    "    if(affich):\n",
    "        afficher_droite(X, Y, theta1)\n",
    "\n",
    "    return theta1, couts\n",
    "\n",
    "def normalise(X): \n",
    "    mean = np.mean(X, axis=0)\n",
    "    std = np.std(X, axis=0)\n",
    "    return (X-mean)/std, mean, std\n",
    "\n",
    "\n",
    "\n",
    "# Extraction des caractéristiques \n",
    "def fractionner(df):\n",
    "    X = df.iloc[:, :-1].values # Premières colonnes \n",
    "    Y = df.iloc[:,-1].values # Dernière colonne \n",
    "    return X, Y\n",
    "\n",
    "\n",
    "\n",
    "def predire(X, theta):\n",
    "    return np.dot(X, theta)\n",
    "\n",
    "\n",
    "def afficher_droite(X, Y, theta):\n",
    "    plt.scatter(X[:,1], Y, color=\"blue\")\n",
    "    plt.plot(X[:,1], predire(X, theta), color=\"red\")\n",
    "    plt.show()\n",
    "\n",
    "\n",
    "def J(X, Y, theta):\n",
    "    return np.mean((Y - predire(X, theta))**2)/2 \n",
    "\n",
    "\n",
    "def gradient(X, Y, theta):\n",
    "    error = (predire(X, theta)-Y)/X.shape[0]\n",
    "    return  np.dot(X.T, error)\n",
    "\n",
    "def gradient_descent2(X, Y, theta, nb_iter, learning_rate, affich = True, seuil=0.001):\n",
    "    couts = []\n",
    "    theta1 = theta.copy()\n",
    "    couts.append(J(X, Y, theta1))\n",
    "    \n",
    "    if (affich):\n",
    "        afficher_droite(X, Y, theta1)\n",
    "    \n",
    "    # Définir l'algorithme de la descente de gradient : \n",
    "    for i in range(nb_iter):\n",
    "        grad = gradient(X, Y, theta1)\n",
    "        theta1 -=  learning_rate * grad\n",
    "        \n",
    "        if affich and i == nb_iter/2:\n",
    "            afficher_droite(X, Y, theta1)\n",
    "        \n",
    "        couts.append(J(X, Y, theta1))\n",
    "        taux_changement = np.abs(couts[-1] - couts[-2])/couts[-2]\n",
    "        if (taux_changement < seuil):\n",
    "            break\n",
    "        \n",
    "    if(affich):\n",
    "        afficher_droite(X, Y, theta1)\n",
    "\n",
    "    return theta1, couts\n",
    "\n"
   ]
  },
  {
   "cell_type": "code",
   "execution_count": 17,
   "metadata": {},
   "outputs": [
    {
     "data": {
      "image/png": "[encoded data removed]",
      "text/plain": [
       "<Figure size 432x288 with 1 Axes>"
      ]
     },
     "metadata": {},
     "output_type": "display_data"
    }
   ],
   "source": [
    "\n",
    "header = [\"Superficie\", \"Prix\"]\n",
    "houses = pd.read_csv(\"datasets/houses.csv\", names=header)\n",
    "\n",
    "msk = np.random.rand(len(houses)) < 0.8 \n",
    "X_train, Y_train = fractionner(houses[msk])\n",
    "X_test, Y_test = fractionner(houses[~msk])\n",
    "\n",
    "\n",
    "theta = np.random.rand(X_train.shape[1] + 1)\n",
    "\n",
    "\n",
    "\n",
    "\n",
    "X_train, mean, std = normalise(X_train)\n",
    "\n",
    "ones = np.ones([X_train.shape[0],1])\n",
    "X_train = np.concatenate((ones, X_train), axis=1)\n",
    "\n",
    "X_train.shape, Y_train.shape, X_test.shape, Y_test.shape\n",
    "\n",
    "theta, couts = gradient_descent(X_train, Y_train, theta, NB_ITER, LEARNING_RATE, affich = False)\n",
    "plt.plot(couts)\n",
    "plt.show()"
   ]
  },
  {
   "cell_type": "code",
   "execution_count": 18,
   "metadata": {},
   "outputs": [
    {
     "data": {
      "text/plain": [
       "array([[ 1.        ,  0.08666127,  0.00751018],\n",
       "       [ 1.        , -0.74594813,  0.55643861],\n",
       "       [ 1.        ,  1.1709898 ,  1.37121711]])"
      ]
     },
     "execution_count": 18,
     "metadata": {},
     "output_type": "execute_result"
    }
   ],
   "source": [
    "#polinomiale deg 2\n",
    "X_train2 = np.concatenate((X_train, (X_train[:, 1]**2).reshape((X_train.shape[0], 1))), axis=1)\n",
    "\n",
    "theta2 = np.random.rand(X_train2.shape[1])\n",
    "\n",
    "theta2 , couts2 = gradient_descent(X_train2, Y_train, theta2, NB_ITER, LEARNING_RATE, affich=False)\n",
    "\n",
    "X_train2[:3, :]"
   ]
  },
  {
   "cell_type": "code",
   "execution_count": 19,
   "metadata": {},
   "outputs": [
    {
     "data": {
      "text/plain": [
       "array([[ 1.00000000e+00,  8.66612737e-02,  7.51017636e-03,\n",
       "         6.50841449e-04],\n",
       "       [ 1.00000000e+00, -7.45948130e-01,  5.56438613e-01,\n",
       "        -4.15074342e-01],\n",
       "       [ 1.00000000e+00,  1.17098980e+00,  1.37121711e+00,\n",
       "         1.60568125e+00]])"
      ]
     },
     "execution_count": 19,
     "metadata": {},
     "output_type": "execute_result"
    }
   ],
   "source": [
    "#polinomial deg 3\n",
    "X_train3 = np.concatenate((X_train2, (X_train[:, 1]**3).reshape((X_train.shape[0], 1))), axis=1)\n",
    "\n",
    "theta3 = np.random.rand(X_train3.shape[1])\n",
    "\n",
    "theta3 , couts3 = gradient_descent(X_train3, Y_train, theta3, NB_ITER, LEARNING_RATE, affich=False)\n",
    "\n",
    "X_train3[:3, :]"
   ]
  },
  {
   "cell_type": "code",
   "execution_count": 20,
   "metadata": {},
   "outputs": [
    {
     "data": {
      "image/png": "[encoded data removed]",
      "text/plain": [
       "<Figure size 432x288 with 1 Axes>"
      ]
     },
     "metadata": {},
     "output_type": "display_data"
    }
   ],
   "source": [
    "plt.plot(couts, label = \"a X + b\")\n",
    "plt.plot(couts2, label = \"a X + b X^2 + c\")\n",
    "plt.plot(couts3, label = \"a X + b X^2 + c X^3 + d\")\n",
    "plt.legend()\n",
    "#plt.autoscale()\n",
    "plt.show()"
   ]
  },
  {
   "cell_type": "code",
   "execution_count": 21,
   "metadata": {},
   "outputs": [
    {
     "data": {
      "image/png": "[encoded data removed]",
      "text/plain": [
       "<Figure size 432x288 with 1 Axes>"
      ]
     },
     "metadata": {},
     "output_type": "display_data"
    }
   ],
   "source": [
    "#Comparaison des estimateurs\n",
    "idx = X_train[:,1].argsort()\n",
    "\n",
    "X_train = X_train[idx]\n",
    "X_train2 = X_train2[idx]\n",
    "X_train3 = X_train3[idx]\n",
    "Y_train = Y_train[idx] #pas besoin de ça, mais pour avoir les Y alignés avec les X\n",
    "\n",
    "plt.scatter(X_train[:,1], Y_train, color=\"blue\")\n",
    "plt.plot(X_train[:,1], predire(X_train, theta), label = \"a X + b\", color=\"red\")\n",
    "plt.plot(X_train[:,1], predire(X_train2, theta2), label = \"a X + b X^2 + c\", color=\"green\")\n",
    "plt.plot(X_train[:,1], predire(X_train3, theta3), label = \"a X + b X^2 + c X^3 + d\", color=\"orange\")\n",
    "plt.legend()\n",
    "#plt.autoscale()\n",
    "plt.show()"
   ]
  },
  {
   "cell_type": "code",
   "execution_count": 22,
   "metadata": {},
   "outputs": [
    {
     "data": {
      "text/plain": [
       "(37900.04491720093, 30940.99169933215, 34622.9087518815)"
      ]
     },
     "execution_count": 22,
     "metadata": {},
     "output_type": "execute_result"
    }
   ],
   "source": [
    "#test des model\n",
    "X_test = (X_test-mean)/std \n",
    "\n",
    "ones = np.ones([X_test.shape[0],1])\n",
    "\n",
    "X_test = np.concatenate((ones, X_test), axis=1)\n",
    "X_test2 = np.concatenate((X_test, (X_test[:, 1]**2).reshape((X_test.shape[0], 1))), axis=1)\n",
    "X_test3 = np.concatenate((X_test2, (X_test[:, 1]**2).reshape((X_test.shape[0], 1))), axis=1)\n",
    "\n",
    "erreur1 = np.sqrt(J(X_test, Y_test, theta))\n",
    "erreur2 = np.sqrt(J(X_test2, Y_test, theta2))\n",
    "erreur3 = np.sqrt(J(X_test3, Y_test, theta3))\n",
    "\n",
    "erreur1, erreur2, erreur3"
   ]
  },
  {
   "cell_type": "code",
   "execution_count": null,
   "metadata": {},
   "outputs": [],
   "source": []
  },
  {
   "cell_type": "code",
   "execution_count": 28,
   "metadata": {},
   "outputs": [
    {
     "data": {
      "image/png": "[encoded data removed]",
      "text/plain": [
       "<Figure size 432x288 with 1 Axes>"
      ]
     },
     "metadata": {},
     "output_type": "display_data"
    },
    {
     "data": {
      "text/plain": [
       "(0.6849761299940034, 0.15978546972358676)"
      ]
     },
     "execution_count": 28,
     "metadata": {},
     "output_type": "execute_result"
    }
   ],
   "source": [
    "from sklearn.model_selection import train_test_split  \n",
    "\n",
    "X = houses.iloc[:, :-1].values # Premières colonnes \n",
    "Y = houses.iloc[:,-1].values # Dernière colonne \n",
    "X_train, X_test, Y_train, Y_test = train_test_split(X, Y, test_size=0.2, random_state=0)  \n",
    "\n",
    "\n",
    "\n",
    "from sklearn.linear_model import LinearRegression  \n",
    "regressor1 = LinearRegression(normalize=True)  \n",
    "regressor1.fit(X_train, Y_train)  \n",
    "\n",
    "plt.scatter(X_train, Y_train, color=\"blue\")\n",
    "plt.plot(X, regressor1.predict(X), color=\"red\")\n",
    "plt.show()\n",
    "\n",
    "\n",
    "\n",
    "from sklearn.preprocessing import PolynomialFeatures\n",
    "\n",
    "poly10 = PolynomialFeatures(degree=10, include_bias=False)\n",
    "X_train10 = poly10.fit_transform(X_train)\n",
    "X_test10 = poly10.fit_transform(X_test)\n",
    "\n",
    "regressor10 = LinearRegression(normalize=True)  \n",
    "regressor10.fit(X_train10, Y_train)\n",
    "\n",
    "Y_pred1 = regressor1.predict(X_test)\n",
    "Y_pred10 = regressor10.predict(X_test10)\n",
    "Y_pred1,Y_pred10\n",
    "\n",
    "\n",
    "from sklearn.metrics import  explained_variance_score\n",
    "\n",
    "erreur1 = explained_variance_score(Y_test, Y_pred1)\n",
    "erreur10 = explained_variance_score(Y_test, Y_pred10)\n",
    "\n",
    "erreur1, erreur10\n"
   ]
  },
  {
   "cell_type": "code",
   "execution_count": null,
   "metadata": {},
   "outputs": [],
   "source": []
  }
 ],
 "metadata": {
  "kernelspec": {
   "display_name": "Python 3",
   "language": "python",
   "name": "python3"
  },
  "language_info": {
   "codemirror_mode": {
    "name": "ipython",
    "version": 3
   },
   "file_extension": ".py",
   "mimetype": "text/x-python",
   "name": "python",
   "nbconvert_exporter": "python",
   "pygments_lexer": "ipython3",
   "version": "3.6.5"
  }
 },
 "nbformat": 4,
 "nbformat_minor": 2
}
